{
 "cells": [
  {
   "cell_type": "code",
   "execution_count": 1,
   "metadata": {},
   "outputs": [],
   "source": [
    "import os\n",
    "import glob\n",
    "import psycopg2\n",
    "import pandas as pd\n",
    "# from sql_queries import *"
   ]
  },
  {
   "cell_type": "code",
   "execution_count": 27,
   "metadata": {},
   "outputs": [],
   "source": [
    "conn = psycopg2.connect(\"host=127.0.0.1 dbname=sparkifydb user=postgres password=123456\")\n",
    "cur = conn.cursor()\n",
    "conn.autocommit = True"
   ]
  },
  {
   "cell_type": "code",
   "execution_count": 67,
   "metadata": {},
   "outputs": [],
   "source": [
    "account_manager = (\"\"\"\n",
    "CREATE TABLE IF NOT EXISTS dim.account_manager \n",
    "    (cr_id SERIAL PRIMARY KEY,\n",
    "    customer_id int,\n",
    "    account_manager int,\n",
    "    efected_date date,\n",
    "    expired_date date,\n",
    "    effected_date_id int,\n",
    "    expired_date_id int)\n",
    "\"\"\")\n",
    "\n",
    "customer = (\"\"\"\n",
    "CREATE TABLE IF NOT EXISTS dim.customer \n",
    "    (customer_id SERIAL PRIMARY KEY,\n",
    "    customer_name varchar,\n",
    "    channel varchar,\n",
    "    billing_address varchar,\n",
    "    tax_code varchar,\n",
    "    customer_country varchar,\n",
    "    account_created_date date)\n",
    "\"\"\")\n",
    "\n",
    "sale_order = (\"\"\"\n",
    "CREATE TABLE IF NOT EXISTS fact.sale_order \n",
    "    (sale_order_id SERIAL PRIMARY KEY,\n",
    "    so_number varchar,\n",
    "    order_date date,\n",
    "    order_date_id int,\n",
    "    expected_ship_date date,\n",
    "    expected_ship_date_id int,\n",
    "    expected_delivery_date date,\n",
    "    expected_delivery_date_id int,\n",
    "    customer_id int,\n",
    "    ship_to_customer int,\n",
    "    reference_po int,\n",
    "    order_discount_amount int,\n",
    "    order_status varchar)\n",
    "\"\"\")\n",
    "\n",
    "sale_order_line = (\"\"\"\n",
    "CREATE TABLE IF NOT EXISTS fact.sale_order_line_item \n",
    "    (sale_order_line_item_id SERIAL PRIMARY KEY,\n",
    "    sale_order_id int,\n",
    "    line_item_number int,\n",
    "    product_id int,\n",
    "    quantity int,\n",
    "    listed_price decimal,\n",
    "    net_price decimal)\n",
    "\"\"\")\n",
    "\n",
    "product = (\"\"\"\n",
    "CREATE TABLE IF NOT EXISTS dim.product \n",
    "    (product_id PRIMARY KEY,\n",
    "    product_name varchar,\n",
    "    sku varchar,\n",
    "    product_line varchar)\n",
    "\"\"\")\n",
    "create_table_queries = [account_manager, customer, sale_order, sale_order_line, product]\n"
   ]
  },
  {
   "cell_type": "code",
   "execution_count": 68,
   "metadata": {},
   "outputs": [],
   "source": [
    "\n",
    "\n",
    "\n",
    "\n",
    "\n",
    "\n",
    "product_insert = (\"\"\"\n",
    "INSERT INTO dim.product (product_id,\n",
    "    product_name,\n",
    "    sku,\n",
    "    product_line)\n",
    "    VALUES (%s, %s, %s, %s)\n",
    "\"\"\")"
   ]
  },
  {
   "cell_type": "code",
   "execution_count": 25,
   "metadata": {},
   "outputs": [],
   "source": [
    "conn.commit()"
   ]
  },
  {
   "cell_type": "code",
   "execution_count": 7,
   "metadata": {
    "scrolled": true
   },
   "outputs": [],
   "source": [
    "cur.execute(\"CREATE SCHEMA dim\")"
   ]
  },
  {
   "cell_type": "code",
   "execution_count": 8,
   "metadata": {},
   "outputs": [],
   "source": [
    "cur.execute(\"CREATE SCHEMA fact\")"
   ]
  },
  {
   "cell_type": "code",
   "execution_count": 69,
   "metadata": {},
   "outputs": [],
   "source": [
    "for query in create_table_queries:\n",
    "#     print(query)\n",
    "    cur.execute(query)\n",
    "    conn.commit()"
   ]
  },
  {
   "cell_type": "code",
   "execution_count": 87,
   "metadata": {},
   "outputs": [],
   "source": [
    "customer_insert = (\"\"\"\n",
    "INSERT INTO dim.customer (customer_name,\n",
    "    channel,\n",
    "    billing_address,\n",
    "    tax_code,\n",
    "    customer_country,\n",
    "    account_created_date)\n",
    "    VALUES (%s, %s, %s, %s, %s, %s)\n",
    "\"\"\")\n",
    "cur.execute(customer_insert, [\"Dinh\", \"B2B\", 'Nothing', 'No', \"UK\", '2019-07-01'])"
   ]
  },
  {
   "cell_type": "code",
   "execution_count": 88,
   "metadata": {},
   "outputs": [],
   "source": [
    "account_manager_insert = (\"\"\"\n",
    "INSERT INTO dim.account_manager (customer_id,\n",
    "    account_manager,\n",
    "    efected_date,\n",
    "    expired_date,\n",
    "    effected_date_id,\n",
    "    expired_date_id)\n",
    "    VALUES (%s, %s, %s, %s, %s, %s)\n",
    "\"\"\")\n",
    "cur.execute(account_manager_insert, [4, 1, '2021-07-01', '9999-12-30', 123, 456])"
   ]
  },
  {
   "cell_type": "code",
   "execution_count": 90,
   "metadata": {},
   "outputs": [],
   "source": [
    "sale_order_insert = (\"\"\"\n",
    "INSERT INTO fact.sale_order (so_number,\n",
    "    order_date,\n",
    "    order_date_id,\n",
    "    expected_ship_date,\n",
    "    expected_ship_date_id,\n",
    "    expected_delivery_date,\n",
    "    expected_delivery_date_id,\n",
    "    customer_id,\n",
    "    ship_to_customer,\n",
    "    reference_po,\n",
    "    order_discount_amount,\n",
    "    order_status)\n",
    "    VALUES (%s, %s, %s, %s, %s, %s, %s, %s, %s, %s, %s, %s)\n",
    "\"\"\")\n",
    "cur.execute(sale_order_insert, [None, '2021-07-15', 123123, '2021-11-05', 1234, '2021-11-30', 12312, 4, 4, None, 20, 'D'])"
   ]
  },
  {
   "cell_type": "code",
   "execution_count": 92,
   "metadata": {},
   "outputs": [],
   "source": [
    "sale_order_line_insert = (\"\"\"\n",
    "INSERT INTO fact.sale_order_line_item (sale_order_id,\n",
    "    line_item_number,\n",
    "    product_id,\n",
    "    quantity,\n",
    "    listed_price,\n",
    "    net_price)\n",
    "    VALUES (%s, %s, %s, %s, %s, %s)\n",
    "\"\"\")\n",
    "cur.execute(sale_order_line_insert, [12, 2, 567, 2, 550.05, 540.60])"
   ]
  },
  {
   "cell_type": "code",
   "execution_count": 76,
   "metadata": {},
   "outputs": [],
   "source": [
    "cur.execute(product_insert, [678, 'Test7', '678', 'PL2'])"
   ]
  },
  {
   "cell_type": "code",
   "execution_count": null,
   "metadata": {},
   "outputs": [],
   "source": []
  }
 ],
 "metadata": {
  "kernelspec": {
   "display_name": "Python 3",
   "language": "python",
   "name": "python3"
  },
  "language_info": {
   "codemirror_mode": {
    "name": "ipython",
    "version": 3
   },
   "file_extension": ".py",
   "mimetype": "text/x-python",
   "name": "python",
   "nbconvert_exporter": "python",
   "pygments_lexer": "ipython3",
   "version": "3.7.9"
  }
 },
 "nbformat": 4,
 "nbformat_minor": 4
}
